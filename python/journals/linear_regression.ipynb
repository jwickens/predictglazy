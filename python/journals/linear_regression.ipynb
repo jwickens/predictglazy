{
 "cells": [
  {
   "cell_type": "code",
   "execution_count": 25,
   "metadata": {},
   "outputs": [
    {
     "name": "stdout",
     "output_type": "stream",
     "text": [
      "Train size: 2120, test size: 531\n"
     ]
    }
   ],
   "source": [
    "from datasets import GlazeColor2CompositionDataset\n",
    "from sklearn import linear_model\n",
    "from sklearn.metrics import mean_squared_error, r2_score\n",
    "from utils import split_dataset\n",
    "import numpy as np\n",
    "import math\n",
    "\n",
    "\n",
    "ds = GlazeColor2CompositionDataset()\n",
    "train_ds, test_ds = split_dataset(ds)"
   ]
  },
  {
   "cell_type": "code",
   "execution_count": 26,
   "metadata": {},
   "outputs": [
    {
     "name": "stdout",
     "output_type": "stream",
     "text": [
      "No secondary hex color for 3105\n",
      "No secondary hex color for 3105\n",
      "min: 0.000000, mean: 0.178465, max: 85.675301, stddev: 0.743119\n",
      "mse: 0.062058, root mse: 0.249114, r-squared: 0.003003\n"
     ]
    }
   ],
   "source": [
    "reg = linear_model.LinearRegression()\n",
    "train_x = [d[0] for d in train_ds]\n",
    "train_y = [np.asarray(d[1].numpy()) for d in train_ds]\n",
    "test_x = [d[0] for d in test_ds]\n",
    "test_y = [np.asarray(d[1].numpy()) for d in test_ds]\n",
    "print('min: %f, mean: %f, max: %f, stddev: %f' % (\n",
    "    np.min(train_y),\n",
    "    np.mean(train_y),\n",
    "    np.max(train_y),\n",
    "    np.std(train_y)\n",
    "))\n",
    "\n",
    "reg.fit(train_x, train_y)\n",
    "y_pred = reg.predict(test_x)\n",
    "mse_error = mean_squared_error(test_y, y_pred)\n",
    "root_mse_error = math.sqrt(mse_error)\n",
    "r2 = r2_score(test_y, y_pred)\n",
    "\n",
    "print('mse: %f, root mse: %f, r-squared: %f' % (\n",
    "    mse_error,\n",
    "    root_mse_error,\n",
    "    r2\n",
    "))"
   ]
  },
  {
   "cell_type": "code",
   "execution_count": null,
   "metadata": {},
   "outputs": [],
   "source": []
  },
  {
   "cell_type": "code",
   "execution_count": null,
   "metadata": {},
   "outputs": [],
   "source": []
  }
 ],
 "metadata": {
  "kernelspec": {
   "display_name": "Python 3",
   "language": "python",
   "name": "python3"
  },
  "language_info": {
   "codemirror_mode": {
    "name": "ipython",
    "version": 3
   },
   "file_extension": ".py",
   "mimetype": "text/x-python",
   "name": "python",
   "nbconvert_exporter": "python",
   "pygments_lexer": "ipython3",
   "version": "3.6.6"
  }
 },
 "nbformat": 4,
 "nbformat_minor": 2
}
